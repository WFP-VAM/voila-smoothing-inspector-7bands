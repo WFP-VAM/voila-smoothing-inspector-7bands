{
 "cells": [
  {
   "cell_type": "markdown",
   "metadata": {},
   "source": [
    "# SMOOTHING ANALYSIS B\n",
    "### 8-day Reflectance"
   ]
  },
  {
   "cell_type": "code",
   "execution_count": 1,
   "metadata": {},
   "outputs": [],
   "source": [
    "import ipywidgets as widgets\n",
    "from ipywidgets import fixed, Layout, Button, Box\n",
    "from ipywidgets import Layout, HTML, VBox"
   ]
  },
  {
   "cell_type": "code",
   "execution_count": 2,
   "metadata": {},
   "outputs": [],
   "source": [
    "#LOADING THE REFLECTNACE DATA\n",
    "%run Loading_Reflectance.ipynb"
   ]
  },
  {
   "cell_type": "code",
   "execution_count": 8,
   "metadata": {},
   "outputs": [],
   "source": [
    "#RUNNING THE FUNCTIONS\n",
    "%run Reflectance_smoothing.ipynb"
   ]
  },
  {
   "cell_type": "code",
   "execution_count": 9,
   "metadata": {},
   "outputs": [],
   "source": [
    "#CREATING THE WIDGETS\n",
    "\n",
    "#location widget\n",
    "loc_list = list(set(MOD.index.values))\n",
    "loc_list.sort()\n",
    "location = widgets.Dropdown(\n",
    "    options=loc_list,\n",
    "    value='AFG01a',\n",
    "    description='Select point:')\n",
    "\n",
    "#satellite widget\n",
    "satellite = widgets.Dropdown(\n",
    "    options=['MOD', 'MYD', 'MXD'],\n",
    "    value='MXD',\n",
    "    description='Satellite:')\n",
    "\n",
    "# asymetric p widget\n",
    "pval = widgets.BoundedFloatText(\n",
    "    value=0.9,\n",
    "    min=0.05,\n",
    "    max=0.95,\n",
    "    step=0.05,\n",
    "    description='pvalue:'\n",
    ")\n",
    "\n",
    "\n",
    "pvalbool = widgets.Checkbox(\n",
    "    value=False,\n",
    "    description='No pvalue',\n",
    ")\n",
    "\n",
    "\n",
    "# ndvi srange widget\n",
    "l = widgets.FloatRangeSlider(\n",
    "    value=[-2, 4],\n",
    "    min=0,\n",
    "    max=6,\n",
    "    step=0.5,\n",
    "    description='srange:')\n",
    "l.style.handle_color = 'lightblue'\n",
    "\n",
    "\n",
    "#srange step widget\n",
    "s = widgets.FloatSlider(\n",
    "    value=0.2,\n",
    "    min=0.05,\n",
    "    max=0.6,\n",
    "    step=0.05,\n",
    "    description='step:')\n",
    "s.style.handle_color = 'lightblue'\n",
    "\n",
    "#year widget\n",
    "year = widgets.Dropdown(\n",
    "    options=list(range(2002,2020)),\n",
    "    value=2010,\n",
    "    description='Year:')\n",
    "\n",
    "#srange step widget\n",
    "month = widgets.IntSlider(\n",
    "    value=1,\n",
    "    min=1,\n",
    "    max=12,\n",
    "    step=1,\n",
    "    description='Offset')\n",
    "month.style.handle_color = 'lightblue'\n",
    "\n",
    "d1 = widgets.Dropdown(\n",
    "    options=list(range(2002,2021)),\n",
    "    value=2002,\n",
    "    description='From ')\n",
    "\n",
    "d2 = widgets.Dropdown(\n",
    "    options=list(range(2002,2021)),\n",
    "    value=2020,\n",
    "    description='to ')\n",
    "\n",
    "ybool = widgets.Checkbox(\n",
    "    value=True,\n",
    "    description='automatic',\n",
    ")\n",
    "\n",
    "ylimits = widgets.FloatRangeSlider(\n",
    "    value=[0, 0.5],\n",
    "    min=-0.5,\n",
    "    max=1,\n",
    "    step=0.1,\n",
    "    description='Y axis limits:')\n",
    "ylimits.style.handle_color = 'lightblue'"
   ]
  },
  {
   "cell_type": "code",
   "execution_count": 10,
   "metadata": {
    "jupyter": {
     "source_hidden": true
    }
   },
   "outputs": [
    {
     "data": {
      "application/vnd.jupyter.widget-view+json": {
       "model_id": "830b860bf0da4e348c18318db40beabc",
       "version_major": 2,
       "version_minor": 0
      },
      "text/plain": [
       "HTML(value='<style>.left-spacing-class {margin-left: -200px;}</style>')"
      ]
     },
     "metadata": {},
     "output_type": "display_data"
    },
    {
     "data": {
      "application/vnd.jupyter.widget-view+json": {
       "model_id": "fb8df0730e1447cb974648bfef8be51e",
       "version_major": 2,
       "version_minor": 0
      },
      "text/plain": [
       "HTML(value='<style>.left-spacing-class {margin-left: -200px;}</style>')"
      ]
     },
     "metadata": {},
     "output_type": "display_data"
    },
    {
     "data": {
      "application/vnd.jupyter.widget-view+json": {
       "model_id": "9b60f65a3a7743e09ff33b340c43bb9c",
       "version_major": 2,
       "version_minor": 0
      },
      "text/plain": [
       "HTML(value='<style>.left-spacing-class {margin-left: -200px;}</style>')"
      ]
     },
     "metadata": {},
     "output_type": "display_data"
    },
    {
     "data": {
      "application/vnd.jupyter.widget-view+json": {
       "model_id": "74fe75ec78434aa4941c7dc7903ad0ea",
       "version_major": 2,
       "version_minor": 0
      },
      "text/plain": [
       "HTML(value='<style>.left-spacing-class {margin-left: -200px;}</style>')"
      ]
     },
     "metadata": {},
     "output_type": "display_data"
    },
    {
     "data": {
      "application/vnd.jupyter.widget-view+json": {
       "model_id": "b43da5d29af54afcbb215db9c6395ee2",
       "version_major": 2,
       "version_minor": 0
      },
      "text/plain": [
       "HTML(value='<style>.left-spacing-class {margin-left: -200px;}</style>')"
      ]
     },
     "metadata": {},
     "output_type": "display_data"
    },
    {
     "data": {
      "application/vnd.jupyter.widget-view+json": {
       "model_id": "18f4c0329e7e43c2853cb667791975f3",
       "version_major": 2,
       "version_minor": 0
      },
      "text/plain": [
       "HTML(value='<style>.left-spacing-class {margin-left: -200px;}</style>')"
      ]
     },
     "metadata": {},
     "output_type": "display_data"
    },
    {
     "data": {
      "application/vnd.jupyter.widget-view+json": {
       "model_id": "ddf2fa8d26c644718fe6c61dbd4b7b5b",
       "version_major": 2,
       "version_minor": 0
      },
      "text/plain": [
       "HTML(value='<style>.left-spacing-class {margin-left: -200px;}</style>')"
      ]
     },
     "metadata": {},
     "output_type": "display_data"
    }
   ],
   "source": [
    "#DISPLAYED CURVES WIDGETS\n",
    "\n",
    "Band1 = widgets.Checkbox(\n",
    "    value=True,\n",
    "    description=f\"<b><font color='red'>{'Band 1'}</b>\",\n",
    "    indent=False\n",
    ")\n",
    "\n",
    "Band1_smoothed = widgets.Checkbox(\n",
    "    value=True,\n",
    "    description=f\"<b><font color='red'>{'Band 1 smoothed (Red): 620 - 570'}</b>\",\n",
    "    indent=False\n",
    ")\n",
    "\n",
    "\n",
    "Band2 = widgets.Checkbox(\n",
    "    value=True,\n",
    "    description=f\"<b><font color='blueviolet'>{'Band 2'}</b>\",\n",
    "    indent=False\n",
    ")\n",
    "\n",
    "Band2_smoothed = widgets.Checkbox(\n",
    "    value=True,\n",
    "    description=f\"<b><font color='blueviolet'>{'Band 2 smoothed (NIR): 841 - 876'}</b>\",\n",
    "    indent=False\n",
    ")\n",
    "\n",
    "\n",
    "Band3 = widgets.Checkbox(\n",
    "    value=True,\n",
    "    description=f\"<b><font color='blue'>{'Band 3'}</b>\",\n",
    "    indent=False\n",
    ")\n",
    "\n",
    "Band3_smoothed = widgets.Checkbox(\n",
    "    value=True,\n",
    "    description=f\"<b><font color='blue'>{'Band 3 smoothed (Blue): 459 - 479'}</b>\",\n",
    "    indent=False\n",
    ")\n",
    "\n",
    "\n",
    "Band4 = widgets.Checkbox(\n",
    "    value=True,\n",
    "    description=f\"<b><font color='green'>{'Band 4'}</b>\",\n",
    "    indent=False\n",
    ")\n",
    "\n",
    "Band4_smoothed = widgets.Checkbox(\n",
    "    value=True,\n",
    "    description=f\"<b><font color='green'>{'Band 4 smoothed (Green): 545 - 565'}</b>\",\n",
    "    indent=False\n",
    ")\n",
    "\n",
    "\n",
    "\n",
    "Band5 = widgets.Checkbox(\n",
    "    value=True,\n",
    "    description=f\"<b><font color='orange'>{'Band 5'}</b>\",\n",
    "    indent=False\n",
    ")\n",
    "\n",
    "Band5_smoothed = widgets.Checkbox(\n",
    "    value=True,\n",
    "    description=f\"<b><font color='orange'>{'Band 5 smoothed (SWIR-1): 1230 - 1250'}</b>\",\n",
    "    indent=False\n",
    ")\n",
    "\n",
    "\n",
    "\n",
    "Band6 = widgets.Checkbox(\n",
    "    value=True,\n",
    "    description=f\"<b><font color='greenyellow'>{'Band 6'}</b>\",\n",
    "    indent=False\n",
    ")\n",
    "\n",
    "Band6_smoothed = widgets.Checkbox(\n",
    "    value=True,\n",
    "    description=f\"<b><font color='greenyellow'>{'Band 6 smoothed (SWIR-2): 1628 - 1652'}</b>\",\n",
    "    indent=False\n",
    ")\n",
    "\n",
    "\n",
    "Band7 = widgets.Checkbox(\n",
    "    value=True,\n",
    "    description=f\"<b><font color='k'>{'Band 7'}</b>\",\n",
    "    indent=False\n",
    ")\n",
    "\n",
    "Band7_smoothed = widgets.Checkbox(\n",
    "    value=True,\n",
    "    description=f\"<b><font color='k'>{'Band 7 smoothed (MWIR): 2105 - 2155'}</b>\",\n",
    "    indent=False\n",
    ")\n",
    "\n",
    "\n",
    "Bands_smoothed = [Band1_smoothed, Band2_smoothed, Band3_smoothed, Band4_smoothed, Band5_smoothed, Band6_smoothed, Band7_smoothed]\n",
    "for i in range(len(Bands_smoothed)):    \n",
    "    \n",
    "    Bands_smoothed[i].add_class(\"left-spacing-class\")\n",
    "    display(HTML(\n",
    "         \"<style>.left-spacing-class {margin-left: -200px;}</style>\"\n",
    "    ))\n",
    "\n",
    "\n",
    "\n",
    "switch = widgets.VBox([widgets.HTML(value = f\"<b>{'Select curves to display'}</b>\"), \n",
    "                       widgets.HBox([Band1, Band1_smoothed]), \n",
    "                       widgets.HBox([Band2, Band2_smoothed]), \n",
    "                       widgets.HBox([Band3, Band3_smoothed]), \n",
    "                       widgets.HBox([Band4, Band4_smoothed]), \n",
    "                       widgets.HBox([Band5, Band5_smoothed]), \n",
    "                       widgets.HBox([Band6, Band6_smoothed]), \n",
    "                       widgets.HBox([Band7, Band7_smoothed])], \n",
    "                           layout = Layout(display='flex', border = 'solid', width='100%'))"
   ]
  },
  {
   "cell_type": "code",
   "execution_count": 11,
   "metadata": {
    "jupyter": {
     "source_hidden": true
    }
   },
   "outputs": [],
   "source": [
    "subox_layout = Layout(display='flex',\n",
    "                    width='100%')\n",
    "\n",
    "ui0 = widgets.VBox([location, satellite], layout=subox_layout)\n",
    "ui1 = widgets.VBox([widgets.HTML(value = f\"<b><font color='darkcyan'>{'p-value'}</b>\"), pval, pvalbool], layout=subox_layout)\n",
    "ui2 = widgets.VBox([widgets.HTML(value = f\"<b><font color='darkcyan'>{'Srange'}</b>\"), l, s], layout=subox_layout)\n",
    "ui3 = widgets.VBox([widgets.HTML(value = f\"<b><font color='darkcyan'>{'Date Range'}</b>\"), d1, d2], layout=subox_layout)\n",
    "ui4 = widgets.VBox([widgets.HTML(value = f\"<b><font color='darkcyan'>{'Year plot'}</b>\"), year, month], layout=subox_layout)\n",
    "ui5 = widgets.VBox([widgets.HTML(value = f\"<b><font color='darkcyan'>{'Y axis'}</b>\"), ylimits, ybool], layout=subox_layout)\n",
    "\n",
    "ui = widgets.VBox([switch, ui0, ui1, ui2, ui3, ui4, ui5])\n"
   ]
  },
  {
   "cell_type": "code",
   "execution_count": 12,
   "metadata": {},
   "outputs": [
    {
     "data": {
      "application/vnd.jupyter.widget-view+json": {
       "model_id": "2dd4a9f631e84da0a9781399130f0351",
       "version_major": 2,
       "version_minor": 0
      },
      "text/plain": [
       "HBox(children=(Box(children=(VBox(children=(VBox(children=(HTML(value='<b>Select curves to display</b>'), HBox…"
      ]
     },
     "metadata": {},
     "output_type": "display_data"
    }
   ],
   "source": [
    "out = widgets.interactive_output(main, \n",
    "                                      {'Band1':Band1,\n",
    "                                       'Band1_smoothed':Band1_smoothed,\n",
    "                                       'Band2':Band2,\n",
    "                                       'Band2_smoothed':Band2_smoothed,\n",
    "                                       'Band3':Band3,\n",
    "                                       'Band3_smoothed':Band3_smoothed,\n",
    "                                       'Band4':Band4,\n",
    "                                       'Band4_smoothed':Band4_smoothed,\n",
    "                                       'Band5':Band5,\n",
    "                                       'Band5_smoothed':Band5_smoothed,\n",
    "                                       'Band6':Band6,\n",
    "                                       'Band6_smoothed':Band6_smoothed,\n",
    "                                       'Band7':Band7,\n",
    "                                       'Band7_smoothed':Band7_smoothed,\n",
    "                                       'MD': fixed((MOD, MYD, MXD)), \n",
    "                                       'location':location,\n",
    "                                       'latlon': fixed((latlon)),\n",
    "                                       'satellite': satellite, \n",
    "                                       'pvalue': pval, \n",
    "                                       'nopval': pvalbool,\n",
    "                                       'lrange': l, 'step': s, \n",
    "                                       'nd': fixed(nd),\n",
    "                                       'date_begin': d1,\n",
    "                                       'date_end': d2,\n",
    "                                       'year': year,\n",
    "                                       'month': month,\n",
    "                                       'yauto': ybool,\n",
    "                                       'ylimits': ylimits})\n",
    "\n",
    "\n",
    "box_layout = Layout(display='flex',\n",
    "                    flex_flow='column',\n",
    "                    align_items='center',\n",
    "                    width='50%')\n",
    "\n",
    "\n",
    "box = widgets.HBox([Box([ui], layout=box_layout), Box([out], layout=Layout(height='800px', overflow_y='auto'))])\n",
    "box"
   ]
  },
  {
   "cell_type": "code",
   "execution_count": null,
   "metadata": {},
   "outputs": [],
   "source": []
  }
 ],
 "metadata": {
  "kernelspec": {
   "display_name": "Python 3",
   "language": "python",
   "name": "python3"
  },
  "language_info": {
   "codemirror_mode": {
    "name": "ipython",
    "version": 3
   },
   "file_extension": ".py",
   "mimetype": "text/x-python",
   "name": "python",
   "nbconvert_exporter": "python",
   "pygments_lexer": "ipython3",
   "version": "3.8.1"
  }
 },
 "nbformat": 4,
 "nbformat_minor": 4
}
